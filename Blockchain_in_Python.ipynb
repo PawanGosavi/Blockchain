{
  "nbformat": 4,
  "nbformat_minor": 0,
  "metadata": {
    "colab": {
      "provenance": [],
      "collapsed_sections": []
    },
    "kernelspec": {
      "name": "python3",
      "display_name": "Python 3"
    },
    "language_info": {
      "name": "python"
    }
  },
  "cells": [
    {
      "cell_type": "markdown",
      "metadata": {
        "id": "AWTBt_fmMbi5"
      },
      "source": [
        "# **Blockchain Practical No. 01**"
      ]
    },
    {
      "cell_type": "markdown",
      "metadata": {
        "id": "LgglEkLKLOny"
      },
      "source": [
        "## Name : **Pawan Gosavi**\n",
        "\n",
        "## Class & Roll No : **MSc IT Part II - 6909**"
      ]
    },
    {
      "cell_type": "markdown",
      "metadata": {
        "id": "u9q_8BWRMQwC"
      },
      "source": [
        "## **Aim : Write & Design A Successful Implementation of Blockchain in Python**"
      ]
    },
    {
      "cell_type": "markdown",
      "metadata": {
        "id": "ETnntompeC_1"
      },
      "source": [
        "### Pre Proesssing & Working with Library Files"
      ]
    },
    {
      "cell_type": "code",
      "metadata": {
        "colab": {
          "base_uri": "https://localhost:8080/"
        },
        "id": "45QxZLXZa-wf",
        "outputId": "ef7a65c4-c346-402c-e44f-5f1aa40b5e3d"
      },
      "source": [
        "# Installing Necessary Libraries\n",
        "# !pip install Crypto\n",
        "!pip install pycryptodome"
      ],
      "execution_count": null,
      "outputs": [
        {
          "output_type": "stream",
          "text": [
            "Collecting pycryptodome\n",
            "\u001b[?25l  Downloading https://files.pythonhosted.org/packages/ad/16/9627ab0493894a11c68e46000dbcc82f578c8ff06bc2980dcd016aea9bd3/pycryptodome-3.10.1-cp35-abi3-manylinux2010_x86_64.whl (1.9MB)\n",
            "\u001b[K     |████████████████████████████████| 1.9MB 8.7MB/s \n",
            "\u001b[?25hInstalling collected packages: pycryptodome\n",
            "Successfully installed pycryptodome-3.10.1\n"
          ],
          "name": "stdout"
        }
      ]
    },
    {
      "cell_type": "code",
      "metadata": {
        "id": "hIPaZ3VQaW-k"
      },
      "source": [
        "# import libraries\n",
        "import hashlib\n",
        "import random\n",
        "import string\n",
        "import json\n",
        "import binascii\n",
        "import numpy as np\n",
        "import pandas as pd\n",
        "import pylab as pl\n",
        "import logging\n",
        "import datetime\n",
        "import collections"
      ],
      "execution_count": null,
      "outputs": []
    },
    {
      "cell_type": "code",
      "metadata": {
        "id": "Dk9cJ-38a20G"
      },
      "source": [
        "# following imports are required by PKI\n",
        "import Crypto\n",
        "import Crypto.Random\n",
        "from Crypto.Hash import SHA\n",
        "from Crypto.PublicKey import RSA\n",
        "from Crypto.Signature import PKCS1_v1_5"
      ],
      "execution_count": null,
      "outputs": []
    },
    {
      "cell_type": "markdown",
      "metadata": {
        "id": "Q-viPRpTdvYw"
      },
      "source": [
        "### P1 A : The Client class using the built-in Python RSA algorithm"
      ]
    },
    {
      "cell_type": "code",
      "metadata": {
        "id": "sTeKWecwblb_"
      },
      "source": [
        "# Client Class\n",
        "class Client:\n",
        "   def __init__(self):\n",
        "      random = Crypto.Random.new().read\n",
        "      self._private_key = RSA.generate(1024, random)\n",
        "      self._public_key = self._private_key.publickey()\n",
        "      self._signer = PKCS1_v1_5.new(self._private_key)\n",
        "\n",
        "   @property\n",
        "   def identity(self):\n",
        "      return binascii.hexlify(self._public_key.exportKey(format='DER')).decode('ascii')"
      ],
      "execution_count": null,
      "outputs": []
    },
    {
      "cell_type": "code",
      "metadata": {
        "colab": {
          "base_uri": "https://localhost:8080/"
        },
        "id": "Y6pve99ycNJa",
        "outputId": "ebe46ff8-4e57-46f3-de79-596a1a0e7c55"
      },
      "source": [
        "# Testing Client\n",
        "Pawan = Client()\n",
        "print (\"Public Key of Pawan : \", Pawan.identity)"
      ],
      "execution_count": null,
      "outputs": [
        {
          "output_type": "stream",
          "text": [
            "Public Key of Pawan :  30819f300d06092a864886f70d010101050003818d0030818902818100ab961c4fbb3c7d94610059b80cab148ce6795c5f3383d02e20f173fdb85f4e740e0c2924cb4ab5903486430fc88c5881743d14ea380c96d7aa8b5599dc220c0499d5c95ec9b0baa4c345c440808e9c395203caa5f00a4e0c1a98a96c7d74a2d942f91bdf5951590aba63d8b57cb893605c53833acdadf06a5b2c60f7e479bf3f0203010001\n"
          ],
          "name": "stdout"
        }
      ]
    },
    {
      "cell_type": "markdown",
      "metadata": {
        "id": "LhXFybtFeV9d"
      },
      "source": [
        "### P1 B : The Transaction class"
      ]
    },
    {
      "cell_type": "code",
      "metadata": {
        "id": "9c3aKj5Tecnh"
      },
      "source": [
        "class Transaction:\n",
        "    # Initialization of a transaction class\n",
        "    def __init__(self, sender, recipient, value):\n",
        "      self.sender = sender\n",
        "      self.recipient = recipient\n",
        "      self.value = value\n",
        "      self.time = datetime.datetime.now()\n",
        "\n",
        "    # Utility method called to_dict that combines all the four above-mentioned instance variables in a dictionary object\n",
        "    def to_dict(self):\n",
        "      if self.sender == \"Genesis\":\n",
        "          identity = \"Genesis\"\n",
        "      else:\n",
        "          identity = self.sender.identity\n",
        "\n",
        "      return collections.OrderedDict({\n",
        "          'sender': identity,\n",
        "          'recipient': self.recipient,\n",
        "          'value': self.value,\n",
        "          'time' : self.time})\n",
        "    \n",
        "    # Sign this dictionary object using the private key of the sender\n",
        "    def sign_transaction(self):\n",
        "      private_key = self.sender._private_key\n",
        "      signer = PKCS1_v1_5.new(private_key)\n",
        "      h = SHA.new(str(self.to_dict()).encode('utf8'))\n",
        "      return binascii.hexlify(signer.sign(h)).decode('ascii')"
      ],
      "execution_count": null,
      "outputs": []
    },
    {
      "cell_type": "code",
      "metadata": {
        "id": "3k7rvZi9flps"
      },
      "source": [
        "# Testing Transaction Class\n",
        "Pawan = Client()\n",
        "Sachin = Client()"
      ],
      "execution_count": null,
      "outputs": []
    },
    {
      "cell_type": "code",
      "metadata": {
        "id": "WfsAe8Gnfxsc"
      },
      "source": [
        "# create the transaction instance\n",
        "t = Transaction(\n",
        "   Pawan,\n",
        "   Sachin.identity,\n",
        "   5.0\n",
        ")"
      ],
      "execution_count": null,
      "outputs": []
    },
    {
      "cell_type": "code",
      "metadata": {
        "colab": {
          "base_uri": "https://localhost:8080/"
        },
        "id": "q-E0udKHhBkW",
        "outputId": "3e20357b-cadf-4ef9-d494-d5d43b1f42a7"
      },
      "source": [
        "# Generate and Print the Signature\n",
        "signature = t.sign_transaction()\n",
        "print (\"Generated Signature : \", signature)"
      ],
      "execution_count": null,
      "outputs": [
        {
          "output_type": "stream",
          "text": [
            "Generated Signature :  97e843613c3f8afc2bb3d42de11e4a6b8ce904dc847f95e1bcef8d0360b73e5b8362d02ed5bd29e99d0cdfe41bc8c682b09b9a67b3903a339c684168ed347fbfa0b9fa53a18a70a57e447e4d3b60e3140a11211dee09d42878fc9af06cdcb30406786b8be90000949a760962dca4bb0f1be0e507c77a626009b6aed1cf6ffc75\n"
          ],
          "name": "stdout"
        }
      ]
    },
    {
      "cell_type": "markdown",
      "metadata": {
        "id": "hNA3gdTawbrv"
      },
      "source": [
        "### P1 C : Creating & Displaying Multiple Transaction"
      ]
    },
    {
      "cell_type": "code",
      "metadata": {
        "id": "VYQZzpkuw0ag"
      },
      "source": [
        "# Displaying Transaction\n",
        "def display_transaction(transaction):\n",
        "   #for transaction in transactions:\n",
        "   dict = transaction.to_dict()\n",
        "   print (\"sender: \" + dict['sender'])\n",
        "   print ('-----')\n",
        "   print (\"recipient: \" + dict['recipient'])\n",
        "   print ('-----')\n",
        "   print (\"value: \" + str(dict['value']))\n",
        "   print ('-----')\n",
        "   print (\"time: \" + str(dict['time']))\n",
        "   print ('-----')\n",
        "\n",
        "# Transaction Queue\n",
        "transactions = []"
      ],
      "execution_count": null,
      "outputs": []
    },
    {
      "cell_type": "code",
      "metadata": {
        "id": "FAUPXHeAxT3O"
      },
      "source": [
        "# Creating Multiple Clients\n",
        "Pawan = Client()\n",
        "Sachin = Client()\n",
        "Sadiq = Client()\n",
        "Samidha = Client()"
      ],
      "execution_count": null,
      "outputs": []
    },
    {
      "cell_type": "code",
      "metadata": {
        "id": "PesQ1KHjxiah"
      },
      "source": [
        "# Creating First Transaction\n",
        "t1 = Transaction(\n",
        "   Pawan,\n",
        "   Sachin.identity,\n",
        "   15.0\n",
        ")\n",
        "\n",
        "# signing transaction using Pawan’s private key and add it to the transaction queue\n",
        "t1.sign_transaction()\n",
        "transactions.append(t1)"
      ],
      "execution_count": null,
      "outputs": []
    },
    {
      "cell_type": "code",
      "metadata": {
        "id": "-JpmPMtSyg-R"
      },
      "source": [
        "# Adding More Transactions\n",
        "t2 = Transaction(\n",
        "   Pawan,\n",
        "   Sadiq.identity,\n",
        "   6.0\n",
        ")\n",
        "\n",
        "t2.sign_transaction()\n",
        "transactions.append(t2)\n",
        "\n",
        "t3 = Transaction(\n",
        "   Sachin,\n",
        "   Samidha.identity,\n",
        "   2.0\n",
        ")\n",
        "\n",
        "t3.sign_transaction()\n",
        "transactions.append(t3)\n",
        "\n",
        "t4 = Transaction(\n",
        "   Sadiq,\n",
        "   Sachin.identity,\n",
        "   4.0\n",
        ")\n",
        "\n",
        "t4.sign_transaction()\n",
        "transactions.append(t4)\n",
        "\n",
        "t5 = Transaction(\n",
        "   Samidha,\n",
        "   Sadiq.identity,\n",
        "   7.0\n",
        ")\n",
        "\n",
        "t5.sign_transaction()\n",
        "transactions.append(t5)\n",
        "\n",
        "t6 = Transaction(\n",
        "   Sachin,\n",
        "   Sadiq.identity,\n",
        "   3.0\n",
        ")\n",
        "\n",
        "t6.sign_transaction()\n",
        "transactions.append(t6)\n",
        "\n",
        "t7 = Transaction(\n",
        "   Sadiq,\n",
        "   Pawan.identity,\n",
        "   8.0\n",
        ")\n",
        "\n",
        "t7.sign_transaction()\n",
        "transactions.append(t7)\n",
        "\n",
        "t8 = Transaction(\n",
        "   Sadiq,\n",
        "   Sachin.identity,\n",
        "   1.0\n",
        ")\n",
        "\n",
        "t8.sign_transaction()\n",
        "transactions.append(t8)\n",
        "\n",
        "t9 = Transaction(\n",
        "   Samidha,\n",
        "   Pawan.identity,\n",
        "   5.0\n",
        ")\n",
        "\n",
        "t9.sign_transaction()\n",
        "transactions.append(t9)\n",
        "\n",
        "t10 = Transaction(\n",
        "   Samidha,\n",
        "   Sachin.identity,\n",
        "   3.0\n",
        ")\n",
        "\n",
        "t10.sign_transaction()\n",
        "transactions.append(t10)"
      ],
      "execution_count": null,
      "outputs": []
    },
    {
      "cell_type": "code",
      "metadata": {
        "colab": {
          "base_uri": "https://localhost:8080/"
        },
        "id": "xCq6yoqUzGNy",
        "outputId": "839c825a-e695-48fc-bd23-3a8563d71401"
      },
      "source": [
        "# Dumping Transactions\n",
        "for transaction in transactions:\n",
        "   display_transaction (transaction)\n",
        "   print ('\\n--------------\\n')"
      ],
      "execution_count": null,
      "outputs": [
        {
          "output_type": "stream",
          "text": [
            "sender: 30819f300d06092a864886f70d010101050003818d0030818902818100b921d07e4b5afdb8cf5c6bae8378fdc4d12becc66b392405595df0c1ca005eff4f845f785024c89415c8136249502ea4ceaa6ce8dcda2961b65f9f64bb758489bc79f56da0e5ee2955e34c7edb742fdfe7aeac764a652975ef5312e645e41d0a26127df3929a364dc1bd783b076e6e12b702365a25b1c2de30a4a0b123f687650203010001\n",
            "-----\n",
            "recipient: 30819f300d06092a864886f70d010101050003818d0030818902818100a4de3be73ef6b9892e749d19f513d07374f9f0253f872165cdb8279ea64a841470a31c0a1ca0e7a3c243d56178cf2d829d641c741b10a0c76cd6782a0acfebd53dd567a209d1bcbcc097df1f1f13de1ad4cb94f81221f00f209cfa7d1b2ee113d8ecde5eb77c2b86f138924b2ce4d6a73ed115aa6e7516dee984809c2d119de70203010001\n",
            "-----\n",
            "value: 15.0\n",
            "-----\n",
            "time: 2021-04-09 15:20:07.562602\n",
            "-----\n",
            "\n",
            "--------------\n",
            "\n",
            "sender: 30819f300d06092a864886f70d010101050003818d0030818902818100b921d07e4b5afdb8cf5c6bae8378fdc4d12becc66b392405595df0c1ca005eff4f845f785024c89415c8136249502ea4ceaa6ce8dcda2961b65f9f64bb758489bc79f56da0e5ee2955e34c7edb742fdfe7aeac764a652975ef5312e645e41d0a26127df3929a364dc1bd783b076e6e12b702365a25b1c2de30a4a0b123f687650203010001\n",
            "-----\n",
            "recipient: 30819f300d06092a864886f70d010101050003818d0030818902818100ba9c4c5a49c9f424f91eb3cf347d60879d0907bb530773a57553a7ad7bf86e79cad6e289c45a86a1a4e6d3a9fa5bdcc2b9417474d0c477423e38a1ee6c709050805398ee2283979795b30f705cfc029c04544bf4bff549e74cc4480d4a4d9007cd42bfbc0b59ba1f4aea7174181ec065eb975ccd7cb2b7ed2f52d90d2950b6250203010001\n",
            "-----\n",
            "value: 6.0\n",
            "-----\n",
            "time: 2021-04-09 15:20:10.469735\n",
            "-----\n",
            "\n",
            "--------------\n",
            "\n",
            "sender: 30819f300d06092a864886f70d010101050003818d0030818902818100a4de3be73ef6b9892e749d19f513d07374f9f0253f872165cdb8279ea64a841470a31c0a1ca0e7a3c243d56178cf2d829d641c741b10a0c76cd6782a0acfebd53dd567a209d1bcbcc097df1f1f13de1ad4cb94f81221f00f209cfa7d1b2ee113d8ecde5eb77c2b86f138924b2ce4d6a73ed115aa6e7516dee984809c2d119de70203010001\n",
            "-----\n",
            "recipient: 30819f300d06092a864886f70d010101050003818d0030818902818100f73d9b7843cb35c65c634882a9723e94558e7e6a0f965e3272d4b806e94eabbf4d3e96340f60316f14dbbb722fe98e77be6e86d91e45db2254a3743150b69c01e3ac4a35bea1a179168b62067cd6fe09588f735054b73bbee158aca58725b0df691cc35131cb55c9e146ad41ddee57c9d3d03cdd5cdd67a644e43ee376f3ae930203010001\n",
            "-----\n",
            "value: 2.0\n",
            "-----\n",
            "time: 2021-04-09 15:20:10.471079\n",
            "-----\n",
            "\n",
            "--------------\n",
            "\n",
            "sender: 30819f300d06092a864886f70d010101050003818d0030818902818100ba9c4c5a49c9f424f91eb3cf347d60879d0907bb530773a57553a7ad7bf86e79cad6e289c45a86a1a4e6d3a9fa5bdcc2b9417474d0c477423e38a1ee6c709050805398ee2283979795b30f705cfc029c04544bf4bff549e74cc4480d4a4d9007cd42bfbc0b59ba1f4aea7174181ec065eb975ccd7cb2b7ed2f52d90d2950b6250203010001\n",
            "-----\n",
            "recipient: 30819f300d06092a864886f70d010101050003818d0030818902818100a4de3be73ef6b9892e749d19f513d07374f9f0253f872165cdb8279ea64a841470a31c0a1ca0e7a3c243d56178cf2d829d641c741b10a0c76cd6782a0acfebd53dd567a209d1bcbcc097df1f1f13de1ad4cb94f81221f00f209cfa7d1b2ee113d8ecde5eb77c2b86f138924b2ce4d6a73ed115aa6e7516dee984809c2d119de70203010001\n",
            "-----\n",
            "value: 4.0\n",
            "-----\n",
            "time: 2021-04-09 15:20:10.472291\n",
            "-----\n",
            "\n",
            "--------------\n",
            "\n",
            "sender: 30819f300d06092a864886f70d010101050003818d0030818902818100f73d9b7843cb35c65c634882a9723e94558e7e6a0f965e3272d4b806e94eabbf4d3e96340f60316f14dbbb722fe98e77be6e86d91e45db2254a3743150b69c01e3ac4a35bea1a179168b62067cd6fe09588f735054b73bbee158aca58725b0df691cc35131cb55c9e146ad41ddee57c9d3d03cdd5cdd67a644e43ee376f3ae930203010001\n",
            "-----\n",
            "recipient: 30819f300d06092a864886f70d010101050003818d0030818902818100ba9c4c5a49c9f424f91eb3cf347d60879d0907bb530773a57553a7ad7bf86e79cad6e289c45a86a1a4e6d3a9fa5bdcc2b9417474d0c477423e38a1ee6c709050805398ee2283979795b30f705cfc029c04544bf4bff549e74cc4480d4a4d9007cd42bfbc0b59ba1f4aea7174181ec065eb975ccd7cb2b7ed2f52d90d2950b6250203010001\n",
            "-----\n",
            "value: 7.0\n",
            "-----\n",
            "time: 2021-04-09 15:20:10.473457\n",
            "-----\n",
            "\n",
            "--------------\n",
            "\n",
            "sender: 30819f300d06092a864886f70d010101050003818d0030818902818100a4de3be73ef6b9892e749d19f513d07374f9f0253f872165cdb8279ea64a841470a31c0a1ca0e7a3c243d56178cf2d829d641c741b10a0c76cd6782a0acfebd53dd567a209d1bcbcc097df1f1f13de1ad4cb94f81221f00f209cfa7d1b2ee113d8ecde5eb77c2b86f138924b2ce4d6a73ed115aa6e7516dee984809c2d119de70203010001\n",
            "-----\n",
            "recipient: 30819f300d06092a864886f70d010101050003818d0030818902818100ba9c4c5a49c9f424f91eb3cf347d60879d0907bb530773a57553a7ad7bf86e79cad6e289c45a86a1a4e6d3a9fa5bdcc2b9417474d0c477423e38a1ee6c709050805398ee2283979795b30f705cfc029c04544bf4bff549e74cc4480d4a4d9007cd42bfbc0b59ba1f4aea7174181ec065eb975ccd7cb2b7ed2f52d90d2950b6250203010001\n",
            "-----\n",
            "value: 3.0\n",
            "-----\n",
            "time: 2021-04-09 15:20:10.474629\n",
            "-----\n",
            "\n",
            "--------------\n",
            "\n",
            "sender: 30819f300d06092a864886f70d010101050003818d0030818902818100ba9c4c5a49c9f424f91eb3cf347d60879d0907bb530773a57553a7ad7bf86e79cad6e289c45a86a1a4e6d3a9fa5bdcc2b9417474d0c477423e38a1ee6c709050805398ee2283979795b30f705cfc029c04544bf4bff549e74cc4480d4a4d9007cd42bfbc0b59ba1f4aea7174181ec065eb975ccd7cb2b7ed2f52d90d2950b6250203010001\n",
            "-----\n",
            "recipient: 30819f300d06092a864886f70d010101050003818d0030818902818100b921d07e4b5afdb8cf5c6bae8378fdc4d12becc66b392405595df0c1ca005eff4f845f785024c89415c8136249502ea4ceaa6ce8dcda2961b65f9f64bb758489bc79f56da0e5ee2955e34c7edb742fdfe7aeac764a652975ef5312e645e41d0a26127df3929a364dc1bd783b076e6e12b702365a25b1c2de30a4a0b123f687650203010001\n",
            "-----\n",
            "value: 8.0\n",
            "-----\n",
            "time: 2021-04-09 15:20:10.475782\n",
            "-----\n",
            "\n",
            "--------------\n",
            "\n",
            "sender: 30819f300d06092a864886f70d010101050003818d0030818902818100ba9c4c5a49c9f424f91eb3cf347d60879d0907bb530773a57553a7ad7bf86e79cad6e289c45a86a1a4e6d3a9fa5bdcc2b9417474d0c477423e38a1ee6c709050805398ee2283979795b30f705cfc029c04544bf4bff549e74cc4480d4a4d9007cd42bfbc0b59ba1f4aea7174181ec065eb975ccd7cb2b7ed2f52d90d2950b6250203010001\n",
            "-----\n",
            "recipient: 30819f300d06092a864886f70d010101050003818d0030818902818100a4de3be73ef6b9892e749d19f513d07374f9f0253f872165cdb8279ea64a841470a31c0a1ca0e7a3c243d56178cf2d829d641c741b10a0c76cd6782a0acfebd53dd567a209d1bcbcc097df1f1f13de1ad4cb94f81221f00f209cfa7d1b2ee113d8ecde5eb77c2b86f138924b2ce4d6a73ed115aa6e7516dee984809c2d119de70203010001\n",
            "-----\n",
            "value: 1.0\n",
            "-----\n",
            "time: 2021-04-09 15:20:10.477076\n",
            "-----\n",
            "\n",
            "--------------\n",
            "\n",
            "sender: 30819f300d06092a864886f70d010101050003818d0030818902818100f73d9b7843cb35c65c634882a9723e94558e7e6a0f965e3272d4b806e94eabbf4d3e96340f60316f14dbbb722fe98e77be6e86d91e45db2254a3743150b69c01e3ac4a35bea1a179168b62067cd6fe09588f735054b73bbee158aca58725b0df691cc35131cb55c9e146ad41ddee57c9d3d03cdd5cdd67a644e43ee376f3ae930203010001\n",
            "-----\n",
            "recipient: 30819f300d06092a864886f70d010101050003818d0030818902818100b921d07e4b5afdb8cf5c6bae8378fdc4d12becc66b392405595df0c1ca005eff4f845f785024c89415c8136249502ea4ceaa6ce8dcda2961b65f9f64bb758489bc79f56da0e5ee2955e34c7edb742fdfe7aeac764a652975ef5312e645e41d0a26127df3929a364dc1bd783b076e6e12b702365a25b1c2de30a4a0b123f687650203010001\n",
            "-----\n",
            "value: 5.0\n",
            "-----\n",
            "time: 2021-04-09 15:20:10.478333\n",
            "-----\n",
            "\n",
            "--------------\n",
            "\n",
            "sender: 30819f300d06092a864886f70d010101050003818d0030818902818100f73d9b7843cb35c65c634882a9723e94558e7e6a0f965e3272d4b806e94eabbf4d3e96340f60316f14dbbb722fe98e77be6e86d91e45db2254a3743150b69c01e3ac4a35bea1a179168b62067cd6fe09588f735054b73bbee158aca58725b0df691cc35131cb55c9e146ad41ddee57c9d3d03cdd5cdd67a644e43ee376f3ae930203010001\n",
            "-----\n",
            "recipient: 30819f300d06092a864886f70d010101050003818d0030818902818100a4de3be73ef6b9892e749d19f513d07374f9f0253f872165cdb8279ea64a841470a31c0a1ca0e7a3c243d56178cf2d829d641c741b10a0c76cd6782a0acfebd53dd567a209d1bcbcc097df1f1f13de1ad4cb94f81221f00f209cfa7d1b2ee113d8ecde5eb77c2b86f138924b2ce4d6a73ed115aa6e7516dee984809c2d119de70203010001\n",
            "-----\n",
            "value: 3.0\n",
            "-----\n",
            "time: 2021-04-09 15:20:10.479768\n",
            "-----\n",
            "\n",
            "--------------\n",
            "\n"
          ],
          "name": "stdout"
        }
      ]
    },
    {
      "cell_type": "markdown",
      "metadata": {
        "id": "YbjoYh-N9Ojg"
      },
      "source": [
        "### P1 D : Block Class, Creating Genesis Block, Creating Blockchain, Adding Genesis Block, Adding Genesis Book"
      ]
    },
    {
      "cell_type": "code",
      "metadata": {
        "id": "kEAAWbZC8uG3"
      },
      "source": [
        "# A Block Class\n",
        "\n",
        "class Block:\n",
        "   def __init__(self):\n",
        "      self.verified_transactions = []\n",
        "      self.previous_block_hash = \"\"\n",
        "      self.Nonce = \"\"\n",
        "\n",
        "# each block needs the value of the previous block’s hash\n",
        "last_block_hash = \"\""
      ],
      "execution_count": null,
      "outputs": []
    },
    {
      "cell_type": "code",
      "metadata": {
        "id": "zf4FvI8a-gmB"
      },
      "source": [
        "# Creating First Instance\n",
        "Pawan = Client()"
      ],
      "execution_count": null,
      "outputs": []
    },
    {
      "cell_type": "code",
      "metadata": {
        "id": "DASn2BNx-5oc"
      },
      "source": [
        "# Create a genesis transaction and send 500 TPCoins to Pawan’s public address\n",
        "t0 = Transaction (\n",
        "   \"Genesis\",\n",
        "   Pawan.identity,\n",
        "   500.0\n",
        ")"
      ],
      "execution_count": null,
      "outputs": []
    },
    {
      "cell_type": "code",
      "metadata": {
        "id": "C2OzUD9D_DQg"
      },
      "source": [
        "# create an instance of Block class and call it block0\n",
        "block0 = Block()"
      ],
      "execution_count": null,
      "outputs": []
    },
    {
      "cell_type": "code",
      "metadata": {
        "id": "YNJq5_Yk_Lk-"
      },
      "source": [
        "# Initialize the instance variables to None, as this is the very first transaction\n",
        "block0.previous_block_hash = None\n",
        "Nonce = None"
      ],
      "execution_count": null,
      "outputs": []
    },
    {
      "cell_type": "code",
      "metadata": {
        "id": "n-3AtR_x_Wde"
      },
      "source": [
        "# Add the t0 transaction to the verified_transactions\n",
        "block0.verified_transactions.append (t0)"
      ],
      "execution_count": null,
      "outputs": []
    },
    {
      "cell_type": "code",
      "metadata": {
        "id": "o1EBJhhm_fp6"
      },
      "source": [
        "# Hashing the block and storing the digest value\n",
        "digest = hash (block0)\n",
        "last_block_hash = digest"
      ],
      "execution_count": null,
      "outputs": []
    },
    {
      "cell_type": "code",
      "metadata": {
        "id": "T0zdXHQsAWnG"
      },
      "source": [
        "# Creating Blockchain\n",
        "\n",
        "# To store the entire list of Blocks, create a list variable called TPCoins\n",
        "TPCoins = []"
      ],
      "execution_count": null,
      "outputs": []
    },
    {
      "cell_type": "code",
      "metadata": {
        "id": "8E69CF-ZAua-"
      },
      "source": [
        "# Creating a Method for dumping the contents of the entire blockchain\n",
        "# Print the length of the blockchain\n",
        "def dump_blockchain (self):\n",
        "   print (\"\\nNumber of blocks in the chain: \" + str(len (self)))\n",
        "   print ('\\n================================================================================================================================\\n')\n",
        "   for x in range (len(TPCoins)):\n",
        "      block_temp = TPCoins[x]\n",
        "      print (\"\\nblock # \" + str(x), \"\\n\")\n",
        "      for transaction in block_temp.verified_transactions:\n",
        "         print ('---------------------------------------------------------------')\n",
        "         display_transaction (transaction)\n",
        "         print ('---------------------------------------------------------------')\n",
        "      print ('\\n================================================================================================================================\\n')"
      ],
      "execution_count": null,
      "outputs": []
    },
    {
      "cell_type": "code",
      "metadata": {
        "id": "MFMmSkdKBN9V"
      },
      "source": [
        "# Adding Genesis Block\n",
        "\n",
        "# Adding a block to the blockchain\n",
        "TPCoins.append (block0)"
      ],
      "execution_count": null,
      "outputs": []
    },
    {
      "cell_type": "code",
      "metadata": {
        "colab": {
          "base_uri": "https://localhost:8080/"
        },
        "id": "kpr-aO2uBZ8u",
        "outputId": "3ec0956c-3c50-4ee4-c8b0-5a59e1d1580d"
      },
      "source": [
        "# Dump the contents of the blockchain\n",
        "dump_blockchain(TPCoins)"
      ],
      "execution_count": null,
      "outputs": [
        {
          "output_type": "stream",
          "text": [
            "\n",
            "Number of blocks in the chain: 1\n",
            "\n",
            "================================================================================================================================\n",
            "\n",
            "\n",
            "block # 0 \n",
            "\n",
            "---------------------------------------------------------------\n",
            "sender: Genesis\n",
            "-----\n",
            "recipient: 30819f300d06092a864886f70d010101050003818d0030818902818100cbeeb5dbd4795090e4b7b6e4a36bd3db9034b4568e7d3338c5c8259219dce578485a4796fbc1f7272bea895749c68789aa91d07a9f970909dfa4f60bbb35505dcd49837739bbd965def83c4a1622566483f24263e25d2ae26c0623a2f4a6c994c8ef89e8272409e9a37f3a307d66d2dd975b5dd9889934f41e0f4990d6f4356f0203010001\n",
            "-----\n",
            "value: 500.0\n",
            "-----\n",
            "time: 2021-04-09 15:20:35.724128\n",
            "-----\n",
            "---------------------------------------------------------------\n",
            "\n",
            "================================================================================================================================\n",
            "\n"
          ],
          "name": "stdout"
        }
      ]
    },
    {
      "cell_type": "markdown",
      "metadata": {
        "id": "tAGQLHcYCLfR"
      },
      "source": [
        "### P1 E : Creating Miners"
      ]
    },
    {
      "cell_type": "code",
      "metadata": {
        "id": "JA8s7vguCShw"
      },
      "source": [
        "# Message Digest Function\n",
        "def sha256(message):\n",
        "  return hashlib.sha256(message.encode('ascii')).hexdigest()"
      ],
      "execution_count": null,
      "outputs": []
    },
    {
      "cell_type": "code",
      "metadata": {
        "id": "NO_uc5-dCiIG"
      },
      "source": [
        "# Mining Function\n",
        "def mine(message, difficulty = 1):\n",
        "    assert difficulty >= 1\n",
        "    prefix = '1' * difficulty\n",
        "    for i in range(1000):\n",
        "        digest = sha256(str(hash(message)) + str(i))\n",
        "        if digest.startswith(prefix):\n",
        "            print (\"After \" + str(i) + \" iterations found nonce : \" + digest, '\\n')\n",
        "            break\n",
        "    return digest"
      ],
      "execution_count": null,
      "outputs": []
    },
    {
      "cell_type": "code",
      "metadata": {
        "colab": {
          "base_uri": "https://localhost:8080/",
          "height": 69
        },
        "id": "tnwf7ZBoCuA8",
        "outputId": "cedbd673-bcda-49cb-8cff-1bc69d2dd418"
      },
      "source": [
        "# Testing Mining Function\n",
        "mine (\"be happy\", 2)"
      ],
      "execution_count": null,
      "outputs": [
        {
          "output_type": "stream",
          "text": [
            "After 26 iterations found nonce : 118052b20db81e7926d2903a8a9ea65565641d4ccbf58cc360d6a8a79c5c956d \n",
            "\n"
          ],
          "name": "stdout"
        },
        {
          "output_type": "execute_result",
          "data": {
            "application/vnd.google.colaboratory.intrinsic+json": {
              "type": "string"
            },
            "text/plain": [
              "'118052b20db81e7926d2903a8a9ea65565641d4ccbf58cc360d6a8a79c5c956d'"
            ]
          },
          "metadata": {
            "tags": []
          },
          "execution_count": 28
        }
      ]
    },
    {
      "cell_type": "markdown",
      "metadata": {
        "id": "mvWMbNSXGr9k"
      },
      "source": [
        "### P1 F : Adding Blocks, Dumping Entire Blockchain"
      ]
    },
    {
      "cell_type": "code",
      "metadata": {
        "id": "v97VjHxZG2bc"
      },
      "source": [
        "# Initiate a Variable to track the number of messages already mined\n",
        "last_transaction_index = 0"
      ],
      "execution_count": null,
      "outputs": []
    },
    {
      "cell_type": "code",
      "metadata": {
        "colab": {
          "base_uri": "https://localhost:8080/"
        },
        "id": "0EgQMMhLHDwj",
        "outputId": "2b8d397c-fb3f-4f9d-ec8a-403c7981dfcc"
      },
      "source": [
        "# Adding First Block\n",
        "block = Block()\n",
        "\n",
        "# Pick up the top 3 transactions from the queue\n",
        "for i in range(3):\n",
        "   temp_transaction = transactions[last_transaction_index]\n",
        "   # validate transaction\n",
        "   # if valid\n",
        "   block.verified_transactions.append (temp_transaction)\n",
        "   last_transaction_index += 1\n",
        "\n",
        "# Adding hash of the last block\n",
        "block.previous_block_hash = last_block_hash\n",
        "\n",
        "# Mine the block with a difficulty level of 2\n",
        "block.Nonce = mine (block, 2)\n",
        "\n",
        "# Hash the entire block and create a digest on it\n",
        "digest = hash (block)\n",
        "\n",
        "# Add the created block to the blockchain\n",
        "TPCoins.append (block)\n",
        "\n",
        "# Reinitialize the last block hash for the use in next block\n",
        "last_block_hash = digest"
      ],
      "execution_count": null,
      "outputs": [
        {
          "output_type": "stream",
          "text": [
            "After 101 iterations found nonce : 11f16e04972e93a81baec0434edbec88cb028ee05c8fb2b72f8f0d60b7d40c24 \n",
            "\n"
          ],
          "name": "stdout"
        }
      ]
    },
    {
      "cell_type": "code",
      "metadata": {
        "colab": {
          "base_uri": "https://localhost:8080/"
        },
        "id": "5AkFXTswHPSm",
        "outputId": "7e6a6fae-8679-4bfa-9818-5e4132e8b202"
      },
      "source": [
        "# Adding 2 or More Blocks\n",
        "\n",
        "# Miner 2 adds a block\n",
        "block = Block()\n",
        "\n",
        "for i in range(3):\n",
        "   temp_transaction = transactions[last_transaction_index]\n",
        "   # validate transaction\n",
        "   # if valid\n",
        "   block.verified_transactions.append (temp_transaction)\n",
        "   last_transaction_index += 1\n",
        "block.previous_block_hash = last_block_hash\n",
        "block.Nonce = mine (block, 2)\n",
        "digest = hash (block)\n",
        "TPCoins.append (block)\n",
        "last_block_hash = digest\n",
        "# Miner 3 adds a block\n",
        "block = Block()\n",
        "\n",
        "for i in range(3):\n",
        "   temp_transaction = transactions[last_transaction_index]\n",
        "   #display_transaction (temp_transaction)\n",
        "   # validate transaction\n",
        "   # if valid\n",
        "   block.verified_transactions.append (temp_transaction)\n",
        "   last_transaction_index += 1\n",
        "\n",
        "block.previous_block_hash = last_block_hash\n",
        "block.Nonce = mine (block, 2)\n",
        "digest = hash (block)\n",
        "\n",
        "TPCoins.append (block)\n",
        "last_block_hash = digest"
      ],
      "execution_count": null,
      "outputs": [
        {
          "output_type": "stream",
          "text": [
            "After 81 iterations found nonce : 11e5e67c200d4d7e874c71d5508930e9830d34e8a9aef94b933cda69deba5919 \n",
            "\n",
            "After 179 iterations found nonce : 113b80814e81ae542990ff83a840eb3ec967a330dd6a3b3289ea41d25a145c79 \n",
            "\n"
          ],
          "name": "stdout"
        }
      ]
    },
    {
      "cell_type": "code",
      "metadata": {
        "colab": {
          "base_uri": "https://localhost:8080/"
        },
        "id": "F-pMuFuBI5JO",
        "outputId": "d9728dda-ef61-4b57-ebcf-c07f6a82e91d"
      },
      "source": [
        "# Dumping Entire Blockchain\n",
        "dump_blockchain(TPCoins)"
      ],
      "execution_count": null,
      "outputs": [
        {
          "output_type": "stream",
          "text": [
            "\n",
            "Number of blocks in the chain: 4\n",
            "\n",
            "================================================================================================================================\n",
            "\n",
            "\n",
            "block # 0 \n",
            "\n",
            "---------------------------------------------------------------\n",
            "sender: Genesis\n",
            "-----\n",
            "recipient: 30819f300d06092a864886f70d010101050003818d0030818902818100cbeeb5dbd4795090e4b7b6e4a36bd3db9034b4568e7d3338c5c8259219dce578485a4796fbc1f7272bea895749c68789aa91d07a9f970909dfa4f60bbb35505dcd49837739bbd965def83c4a1622566483f24263e25d2ae26c0623a2f4a6c994c8ef89e8272409e9a37f3a307d66d2dd975b5dd9889934f41e0f4990d6f4356f0203010001\n",
            "-----\n",
            "value: 500.0\n",
            "-----\n",
            "time: 2021-04-09 15:20:35.724128\n",
            "-----\n",
            "---------------------------------------------------------------\n",
            "\n",
            "================================================================================================================================\n",
            "\n",
            "\n",
            "block # 1 \n",
            "\n",
            "---------------------------------------------------------------\n",
            "sender: 30819f300d06092a864886f70d010101050003818d0030818902818100b921d07e4b5afdb8cf5c6bae8378fdc4d12becc66b392405595df0c1ca005eff4f845f785024c89415c8136249502ea4ceaa6ce8dcda2961b65f9f64bb758489bc79f56da0e5ee2955e34c7edb742fdfe7aeac764a652975ef5312e645e41d0a26127df3929a364dc1bd783b076e6e12b702365a25b1c2de30a4a0b123f687650203010001\n",
            "-----\n",
            "recipient: 30819f300d06092a864886f70d010101050003818d0030818902818100a4de3be73ef6b9892e749d19f513d07374f9f0253f872165cdb8279ea64a841470a31c0a1ca0e7a3c243d56178cf2d829d641c741b10a0c76cd6782a0acfebd53dd567a209d1bcbcc097df1f1f13de1ad4cb94f81221f00f209cfa7d1b2ee113d8ecde5eb77c2b86f138924b2ce4d6a73ed115aa6e7516dee984809c2d119de70203010001\n",
            "-----\n",
            "value: 15.0\n",
            "-----\n",
            "time: 2021-04-09 15:20:07.562602\n",
            "-----\n",
            "---------------------------------------------------------------\n",
            "---------------------------------------------------------------\n",
            "sender: 30819f300d06092a864886f70d010101050003818d0030818902818100b921d07e4b5afdb8cf5c6bae8378fdc4d12becc66b392405595df0c1ca005eff4f845f785024c89415c8136249502ea4ceaa6ce8dcda2961b65f9f64bb758489bc79f56da0e5ee2955e34c7edb742fdfe7aeac764a652975ef5312e645e41d0a26127df3929a364dc1bd783b076e6e12b702365a25b1c2de30a4a0b123f687650203010001\n",
            "-----\n",
            "recipient: 30819f300d06092a864886f70d010101050003818d0030818902818100ba9c4c5a49c9f424f91eb3cf347d60879d0907bb530773a57553a7ad7bf86e79cad6e289c45a86a1a4e6d3a9fa5bdcc2b9417474d0c477423e38a1ee6c709050805398ee2283979795b30f705cfc029c04544bf4bff549e74cc4480d4a4d9007cd42bfbc0b59ba1f4aea7174181ec065eb975ccd7cb2b7ed2f52d90d2950b6250203010001\n",
            "-----\n",
            "value: 6.0\n",
            "-----\n",
            "time: 2021-04-09 15:20:10.469735\n",
            "-----\n",
            "---------------------------------------------------------------\n",
            "---------------------------------------------------------------\n",
            "sender: 30819f300d06092a864886f70d010101050003818d0030818902818100a4de3be73ef6b9892e749d19f513d07374f9f0253f872165cdb8279ea64a841470a31c0a1ca0e7a3c243d56178cf2d829d641c741b10a0c76cd6782a0acfebd53dd567a209d1bcbcc097df1f1f13de1ad4cb94f81221f00f209cfa7d1b2ee113d8ecde5eb77c2b86f138924b2ce4d6a73ed115aa6e7516dee984809c2d119de70203010001\n",
            "-----\n",
            "recipient: 30819f300d06092a864886f70d010101050003818d0030818902818100f73d9b7843cb35c65c634882a9723e94558e7e6a0f965e3272d4b806e94eabbf4d3e96340f60316f14dbbb722fe98e77be6e86d91e45db2254a3743150b69c01e3ac4a35bea1a179168b62067cd6fe09588f735054b73bbee158aca58725b0df691cc35131cb55c9e146ad41ddee57c9d3d03cdd5cdd67a644e43ee376f3ae930203010001\n",
            "-----\n",
            "value: 2.0\n",
            "-----\n",
            "time: 2021-04-09 15:20:10.471079\n",
            "-----\n",
            "---------------------------------------------------------------\n",
            "\n",
            "================================================================================================================================\n",
            "\n",
            "\n",
            "block # 2 \n",
            "\n",
            "---------------------------------------------------------------\n",
            "sender: 30819f300d06092a864886f70d010101050003818d0030818902818100ba9c4c5a49c9f424f91eb3cf347d60879d0907bb530773a57553a7ad7bf86e79cad6e289c45a86a1a4e6d3a9fa5bdcc2b9417474d0c477423e38a1ee6c709050805398ee2283979795b30f705cfc029c04544bf4bff549e74cc4480d4a4d9007cd42bfbc0b59ba1f4aea7174181ec065eb975ccd7cb2b7ed2f52d90d2950b6250203010001\n",
            "-----\n",
            "recipient: 30819f300d06092a864886f70d010101050003818d0030818902818100a4de3be73ef6b9892e749d19f513d07374f9f0253f872165cdb8279ea64a841470a31c0a1ca0e7a3c243d56178cf2d829d641c741b10a0c76cd6782a0acfebd53dd567a209d1bcbcc097df1f1f13de1ad4cb94f81221f00f209cfa7d1b2ee113d8ecde5eb77c2b86f138924b2ce4d6a73ed115aa6e7516dee984809c2d119de70203010001\n",
            "-----\n",
            "value: 4.0\n",
            "-----\n",
            "time: 2021-04-09 15:20:10.472291\n",
            "-----\n",
            "---------------------------------------------------------------\n",
            "---------------------------------------------------------------\n",
            "sender: 30819f300d06092a864886f70d010101050003818d0030818902818100f73d9b7843cb35c65c634882a9723e94558e7e6a0f965e3272d4b806e94eabbf4d3e96340f60316f14dbbb722fe98e77be6e86d91e45db2254a3743150b69c01e3ac4a35bea1a179168b62067cd6fe09588f735054b73bbee158aca58725b0df691cc35131cb55c9e146ad41ddee57c9d3d03cdd5cdd67a644e43ee376f3ae930203010001\n",
            "-----\n",
            "recipient: 30819f300d06092a864886f70d010101050003818d0030818902818100ba9c4c5a49c9f424f91eb3cf347d60879d0907bb530773a57553a7ad7bf86e79cad6e289c45a86a1a4e6d3a9fa5bdcc2b9417474d0c477423e38a1ee6c709050805398ee2283979795b30f705cfc029c04544bf4bff549e74cc4480d4a4d9007cd42bfbc0b59ba1f4aea7174181ec065eb975ccd7cb2b7ed2f52d90d2950b6250203010001\n",
            "-----\n",
            "value: 7.0\n",
            "-----\n",
            "time: 2021-04-09 15:20:10.473457\n",
            "-----\n",
            "---------------------------------------------------------------\n",
            "---------------------------------------------------------------\n",
            "sender: 30819f300d06092a864886f70d010101050003818d0030818902818100a4de3be73ef6b9892e749d19f513d07374f9f0253f872165cdb8279ea64a841470a31c0a1ca0e7a3c243d56178cf2d829d641c741b10a0c76cd6782a0acfebd53dd567a209d1bcbcc097df1f1f13de1ad4cb94f81221f00f209cfa7d1b2ee113d8ecde5eb77c2b86f138924b2ce4d6a73ed115aa6e7516dee984809c2d119de70203010001\n",
            "-----\n",
            "recipient: 30819f300d06092a864886f70d010101050003818d0030818902818100ba9c4c5a49c9f424f91eb3cf347d60879d0907bb530773a57553a7ad7bf86e79cad6e289c45a86a1a4e6d3a9fa5bdcc2b9417474d0c477423e38a1ee6c709050805398ee2283979795b30f705cfc029c04544bf4bff549e74cc4480d4a4d9007cd42bfbc0b59ba1f4aea7174181ec065eb975ccd7cb2b7ed2f52d90d2950b6250203010001\n",
            "-----\n",
            "value: 3.0\n",
            "-----\n",
            "time: 2021-04-09 15:20:10.474629\n",
            "-----\n",
            "---------------------------------------------------------------\n",
            "\n",
            "================================================================================================================================\n",
            "\n",
            "\n",
            "block # 3 \n",
            "\n",
            "---------------------------------------------------------------\n",
            "sender: 30819f300d06092a864886f70d010101050003818d0030818902818100ba9c4c5a49c9f424f91eb3cf347d60879d0907bb530773a57553a7ad7bf86e79cad6e289c45a86a1a4e6d3a9fa5bdcc2b9417474d0c477423e38a1ee6c709050805398ee2283979795b30f705cfc029c04544bf4bff549e74cc4480d4a4d9007cd42bfbc0b59ba1f4aea7174181ec065eb975ccd7cb2b7ed2f52d90d2950b6250203010001\n",
            "-----\n",
            "recipient: 30819f300d06092a864886f70d010101050003818d0030818902818100b921d07e4b5afdb8cf5c6bae8378fdc4d12becc66b392405595df0c1ca005eff4f845f785024c89415c8136249502ea4ceaa6ce8dcda2961b65f9f64bb758489bc79f56da0e5ee2955e34c7edb742fdfe7aeac764a652975ef5312e645e41d0a26127df3929a364dc1bd783b076e6e12b702365a25b1c2de30a4a0b123f687650203010001\n",
            "-----\n",
            "value: 8.0\n",
            "-----\n",
            "time: 2021-04-09 15:20:10.475782\n",
            "-----\n",
            "---------------------------------------------------------------\n",
            "---------------------------------------------------------------\n",
            "sender: 30819f300d06092a864886f70d010101050003818d0030818902818100ba9c4c5a49c9f424f91eb3cf347d60879d0907bb530773a57553a7ad7bf86e79cad6e289c45a86a1a4e6d3a9fa5bdcc2b9417474d0c477423e38a1ee6c709050805398ee2283979795b30f705cfc029c04544bf4bff549e74cc4480d4a4d9007cd42bfbc0b59ba1f4aea7174181ec065eb975ccd7cb2b7ed2f52d90d2950b6250203010001\n",
            "-----\n",
            "recipient: 30819f300d06092a864886f70d010101050003818d0030818902818100a4de3be73ef6b9892e749d19f513d07374f9f0253f872165cdb8279ea64a841470a31c0a1ca0e7a3c243d56178cf2d829d641c741b10a0c76cd6782a0acfebd53dd567a209d1bcbcc097df1f1f13de1ad4cb94f81221f00f209cfa7d1b2ee113d8ecde5eb77c2b86f138924b2ce4d6a73ed115aa6e7516dee984809c2d119de70203010001\n",
            "-----\n",
            "value: 1.0\n",
            "-----\n",
            "time: 2021-04-09 15:20:10.477076\n",
            "-----\n",
            "---------------------------------------------------------------\n",
            "---------------------------------------------------------------\n",
            "sender: 30819f300d06092a864886f70d010101050003818d0030818902818100f73d9b7843cb35c65c634882a9723e94558e7e6a0f965e3272d4b806e94eabbf4d3e96340f60316f14dbbb722fe98e77be6e86d91e45db2254a3743150b69c01e3ac4a35bea1a179168b62067cd6fe09588f735054b73bbee158aca58725b0df691cc35131cb55c9e146ad41ddee57c9d3d03cdd5cdd67a644e43ee376f3ae930203010001\n",
            "-----\n",
            "recipient: 30819f300d06092a864886f70d010101050003818d0030818902818100b921d07e4b5afdb8cf5c6bae8378fdc4d12becc66b392405595df0c1ca005eff4f845f785024c89415c8136249502ea4ceaa6ce8dcda2961b65f9f64bb758489bc79f56da0e5ee2955e34c7edb742fdfe7aeac764a652975ef5312e645e41d0a26127df3929a364dc1bd783b076e6e12b702365a25b1c2de30a4a0b123f687650203010001\n",
            "-----\n",
            "value: 5.0\n",
            "-----\n",
            "time: 2021-04-09 15:20:10.478333\n",
            "-----\n",
            "---------------------------------------------------------------\n",
            "\n",
            "================================================================================================================================\n",
            "\n"
          ],
          "name": "stdout"
        }
      ]
    }
  ]
}